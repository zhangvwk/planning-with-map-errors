{
 "cells": [
  {
   "cell_type": "code",
   "execution_count": 2,
   "metadata": {},
   "outputs": [],
   "source": [
    "# if using jupyter-lab\n",
    "%matplotlib widget \n",
    "# %matplotlib notebook\n",
    "\n",
    "import numpy as np\n",
    "import matplotlib.pyplot as plt\n",
    "from lqr import LQRPlanner"
   ]
  },
  {
   "cell_type": "code",
   "execution_count": 3,
   "metadata": {},
   "outputs": [],
   "source": [
    "# taken from homework 3\n",
    "q, r, h = 1, 3, 4\n",
    "A = np.array([[0,1], [0,-1]]).reshape(2,2)\n",
    "B = np.array([0,1]).reshape(2,1)\n",
    "Q = np.array([[q,0], [0,0]]).reshape(2,2)\n",
    "R = r"
   ]
  },
  {
   "cell_type": "code",
   "execution_count": 4,
   "metadata": {},
   "outputs": [
    {
     "name": "stdout",
     "output_type": "stream",
     "text": [
      "[26.4222051]\n"
     ]
    }
   ],
   "source": [
    "u = np.array([1,1])\n",
    "v = np.array([5,5])\n",
    "planner = LQRPlanner(Q,R,A,B)\n",
    "cost, path = planner.compute_path(u,v)\n",
    "print(cost)"
   ]
  },
  {
   "cell_type": "code",
   "execution_count": 6,
   "metadata": {},
   "outputs": [
    {
     "data": {
      "application/vnd.jupyter.widget-view+json": {
       "model_id": "21b0aaa1447440ba8c6fc4f696f197c4",
       "version_major": 2,
       "version_minor": 0
      },
      "text/plain": [
       "Canvas(toolbar=Toolbar(toolitems=[('Home', 'Reset original view', 'home', 'home'), ('Back', 'Back to previous …"
      ]
     },
     "metadata": {},
     "output_type": "display_data"
    },
    {
     "data": {
      "text/plain": [
       "(0.0, 8.0)"
      ]
     },
     "execution_count": 6,
     "metadata": {},
     "output_type": "execute_result"
    }
   ],
   "source": [
    "fig, ax = plt.subplots()\n",
    "ax.set_aspect('equal')\n",
    "for i in range(path.shape[0]-1):\n",
    "    plt.arrow(path[i,0], path[i,1], \n",
    "              path[i+1,0]-path[i,0], path[i+1,1]-path[i,1],\n",
    "              length_includes_head=True, head_width=0.15)\n",
    "ax.set_xlim(0, 8)\n",
    "ax.set_ylim(0,8)"
   ]
  },
  {
   "cell_type": "code",
   "execution_count": null,
   "metadata": {},
   "outputs": [],
   "source": []
  }
 ],
 "metadata": {
  "kernelspec": {
   "display_name": "Python 3",
   "language": "python",
   "name": "python3"
  },
  "language_info": {
   "codemirror_mode": {
    "name": "ipython",
    "version": 3
   },
   "file_extension": ".py",
   "mimetype": "text/x-python",
   "name": "python",
   "nbconvert_exporter": "python",
   "pygments_lexer": "ipython3",
   "version": "3.6.9"
  }
 },
 "nbformat": 4,
 "nbformat_minor": 4
}
