{
 "cells": [
  {
   "cell_type": "code",
   "execution_count": 1,
   "metadata": {},
   "outputs": [],
   "source": [
    "# if using jupyter-lab\n",
    "# %matplotlib widget \n",
    "# %matplotlib notebook\n",
    "\n",
    "import numpy as np\n",
    "import matplotlib.pyplot as plt\n",
    "from lqr import LQRPlanner"
   ]
  },
  {
   "cell_type": "code",
   "execution_count": 15,
   "metadata": {},
   "outputs": [],
   "source": [
    "# # taken from homework 3\n",
    "# q, r, h = 1, 3, 4\n",
    "# A = np.array([[0,1], [0,-1]]).reshape(2,2)\n",
    "# B = np.array([0,1]).reshape(2,1)\n",
    "# Q = np.array([[q,0], [0,0]]).reshape(2,2)\n",
    "# R = r\n",
    "\n",
    "dt = 0.2\n",
    "A = np.eye(2); B = dt*np.eye(2); C = np.eye(2)\n",
    "Q = np.eye(2)\n",
    "R = np.eye(2)\n",
    "planner = LQRPlanner(Q, R, A, B)"
   ]
  },
  {
   "cell_type": "code",
   "execution_count": 16,
   "metadata": {},
   "outputs": [
    {
     "data": {
      "text/plain": [
       "array([[0.90498756, 0.        ],\n",
       "       [0.        , 0.90498756]])"
      ]
     },
     "execution_count": 16,
     "metadata": {},
     "output_type": "execute_result"
    }
   ],
   "source": [
    "planner.get_gain()"
   ]
  },
  {
   "cell_type": "code",
   "execution_count": 21,
   "metadata": {},
   "outputs": [
    {
     "name": "stdout",
     "output_type": "stream",
     "text": [
      "1.3810231927156043\n"
     ]
    }
   ],
   "source": [
    "u = np.array([1,1])\n",
    "v = np.array([1.5,1.5])\n",
    "planner = LQRPlanner(Q,R,A,B)\n",
    "cost, path = planner.compute_path(u,v, tol=1e-2)\n",
    "print(cost)"
   ]
  },
  {
   "cell_type": "code",
   "execution_count": 22,
   "metadata": {},
   "outputs": [
    {
     "data": {
      "text/plain": [
       "(0, 8)"
      ]
     },
     "execution_count": 22,
     "metadata": {},
     "output_type": "execute_result"
    },
    {
     "data": {
      "image/png": "[encoded data removed]",
      "text/plain": [
       "<Figure size 432x288 with 1 Axes>"
      ]
     },
     "metadata": {
      "needs_background": "light"
     },
     "output_type": "display_data"
    }
   ],
   "source": [
    "fig, ax = plt.subplots()\n",
    "ax.set_aspect('equal')\n",
    "for i in range(path.shape[0]-1):\n",
    "    plt.arrow(path[i,0], path[i,1], \n",
    "              path[i+1,0]-path[i,0], path[i+1,1]-path[i,1],\n",
    "              length_includes_head=True, head_width=0.15)\n",
    "ax.set_xlim(0, 8)\n",
    "ax.set_ylim(0,8)"
   ]
  },
  {
   "cell_type": "code",
   "execution_count": 23,
   "metadata": {},
   "outputs": [
    {
     "data": {
      "text/plain": [
       "23"
      ]
     },
     "execution_count": 23,
     "metadata": {},
     "output_type": "execute_result"
    }
   ],
   "source": [
    "len(path)"
   ]
  },
  {
   "cell_type": "code",
   "execution_count": 24,
   "metadata": {},
   "outputs": [
    {
     "data": {
      "text/plain": [
       "array([[1.        , 1.        ],\n",
       "       [1.09049876, 1.09049876],\n",
       "       [1.16461746, 1.16461746],\n",
       "       [1.22532087, 1.22532087],\n",
       "       [1.27503711, 1.27503711],\n",
       "       [1.31575483, 1.31575483],\n",
       "       [1.34910275, 1.34910275],\n",
       "       [1.37641478, 1.37641478],\n",
       "       [1.39878339, 1.39878339],\n",
       "       [1.41710335, 1.41710335],\n",
       "       [1.43210744, 1.43210744],\n",
       "       [1.44439582, 1.44439582],\n",
       "       [1.45446004, 1.45446004],\n",
       "       [1.46270266, 1.46270266],\n",
       "       [1.46945338, 1.46945338],\n",
       "       [1.47498225, 1.47498225],\n",
       "       [1.4795104 , 1.4795104 ],\n",
       "       [1.48321896, 1.48321896],\n",
       "       [1.48625629, 1.48625629],\n",
       "       [1.48874387, 1.48874387],\n",
       "       [1.4907812 , 1.4907812 ],\n",
       "       [1.49244978, 1.49244978],\n",
       "       [1.49381635, 1.49381635]])"
      ]
     },
     "execution_count": 24,
     "metadata": {},
     "output_type": "execute_result"
    }
   ],
   "source": [
    "path"
   ]
  },
  {
   "cell_type": "code",
   "execution_count": null,
   "metadata": {},
   "outputs": [],
   "source": []
  }
 ],
 "metadata": {
  "kernelspec": {
   "display_name": "Python 3",
   "language": "python",
   "name": "python3"
  },
  "language_info": {
   "codemirror_mode": {
    "name": "ipython",
    "version": 3
   },
   "file_extension": ".py",
   "mimetype": "text/x-python",
   "name": "python",
   "nbconvert_exporter": "python",
   "pygments_lexer": "ipython3",
   "version": "3.6.9"
  }
 },
 "nbformat": 4,
 "nbformat_minor": 4
}
