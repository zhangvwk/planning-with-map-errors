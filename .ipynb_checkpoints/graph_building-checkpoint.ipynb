{
 "cells": [
  {
   "cell_type": "code",
   "execution_count": 1,
   "metadata": {},
   "outputs": [],
   "source": [
    "from shapes import Point, Polygon, Rectangle, Environment2D\n",
    "from utils import PlotTools\n",
    "from graph import Graph\n",
    "import collections\n",
    "\n",
    "import matplotlib.pyplot as plt\n",
    "import numpy as np\n",
    "%load_ext autoreload\n",
    "%autoreload 2"
   ]
  },
  {
   "cell_type": "code",
   "execution_count": 2,
   "metadata": {},
   "outputs": [],
   "source": [
    "# a = Point(0,0.5)\n",
    "# b = Point(0,1)\n",
    "# c = Point(0.5,1.5)\n",
    "# d = Point(1,1)\n",
    "# e = Point(1,0.5)\n",
    "# f = Point(0.5,0)\n",
    "# hexagon = Polygon(0, [a,b,c,d,e,f])\n",
    "\n",
    "# a_ = Point(3,4)\n",
    "# b_ = Point(3,5)\n",
    "# c_ = Point(5,5)\n",
    "# d_ = Point(4,3)\n",
    "# square = Polygon(1, [a_,b_,c_,d_])\n",
    "\n",
    "rec_0 = Rectangle(0, 0,0,1,1,45)\n",
    "rec_1 = Rectangle(1, 5,6,2,3,-30)\n",
    "\n",
    "x_lims = [-10,10]\n",
    "y_lims = [-10,10]\n",
    "env = Environment2D(x_lims, y_lims)\n",
    "env.add_rectangle(rec_0)\n",
    "env.add_rectangle(rec_1)"
   ]
  },
  {
   "cell_type": "code",
   "execution_count": 3,
   "metadata": {},
   "outputs": [],
   "source": [
    "# query = Point(1.5, 4.2)\n",
    "# env.plot_min_proj(query)"
   ]
  },
  {
   "cell_type": "code",
   "execution_count": 4,
   "metadata": {},
   "outputs": [],
   "source": [
    "x_init = np.array([5,5])\n",
    "x_range = np.array([x_lims, y_lims])"
   ]
  },
  {
   "cell_type": "code",
   "execution_count": 5,
   "metadata": {},
   "outputs": [],
   "source": [
    "g = Graph(x_init, x_range, env)"
   ]
  },
  {
   "cell_type": "code",
   "execution_count": 6,
   "metadata": {},
   "outputs": [],
   "source": [
    "g.clear()\n",
    "g.build(1000,1,20)"
   ]
  },
  {
   "cell_type": "code",
   "execution_count": 7,
   "metadata": {},
   "outputs": [],
   "source": [
    "# g.plot(edges=True)"
   ]
  },
  {
   "cell_type": "code",
   "execution_count": 8,
   "metadata": {},
   "outputs": [],
   "source": [
    "data = g.samples[:,:2]"
   ]
  },
  {
   "cell_type": "code",
   "execution_count": 9,
   "metadata": {},
   "outputs": [
    {
     "data": {
      "text/plain": [
       "array([[ 5.        ,  5.        ],\n",
       "       [-1.12068904, -5.27837723],\n",
       "       [-2.6676054 ,  9.74651778],\n",
       "       ...,\n",
       "       [ 8.56761581, -6.33302714],\n",
       "       [-4.15744655, -4.99433946],\n",
       "       [-9.53609317,  7.75753277]])"
      ]
     },
     "execution_count": 9,
     "metadata": {},
     "output_type": "execute_result"
    }
   ],
   "source": [
    "data"
   ]
  },
  {
   "cell_type": "code",
   "execution_count": 10,
   "metadata": {},
   "outputs": [],
   "source": [
    "import scipy.spatial"
   ]
  },
  {
   "cell_type": "code",
   "execution_count": 11,
   "metadata": {},
   "outputs": [],
   "source": [
    "kd_tree = scipy.spatial.cKDTree(g.samples)"
   ]
  },
  {
   "cell_type": "code",
   "execution_count": 12,
   "metadata": {},
   "outputs": [
    {
     "data": {
      "text/plain": [
       "array([[ 5.        ,  5.        ],\n",
       "       [-1.12068904, -5.27837723],\n",
       "       [-2.6676054 ,  9.74651778],\n",
       "       ...,\n",
       "       [ 8.56761581, -6.33302714],\n",
       "       [-4.15744655, -4.99433946],\n",
       "       [-9.53609317,  7.75753277]])"
      ]
     },
     "execution_count": 12,
     "metadata": {},
     "output_type": "execute_result"
    }
   ],
   "source": [
    "kd_tree.data"
   ]
  },
  {
   "cell_type": "code",
   "execution_count": 13,
   "metadata": {},
   "outputs": [
    {
     "data": {
      "text/plain": [
       "[466, 972, 619, 655, 286, 785, 324, 462, 204, 130]"
      ]
     },
     "execution_count": 13,
     "metadata": {},
     "output_type": "execute_result"
    }
   ],
   "source": [
    "kd_tree.query_ball_point([2, 0], 1)"
   ]
  },
  {
   "cell_type": "code",
   "execution_count": 14,
   "metadata": {},
   "outputs": [],
   "source": [
    "l = np.array([0,1])"
   ]
  },
  {
   "cell_type": "code",
   "execution_count": 15,
   "metadata": {},
   "outputs": [],
   "source": [
    "a=g.x_init"
   ]
  },
  {
   "cell_type": "code",
   "execution_count": 16,
   "metadata": {},
   "outputs": [
    {
     "data": {
      "text/plain": [
       "array([[5, 5],\n",
       "       [0, 1]])"
      ]
     },
     "execution_count": 16,
     "metadata": {},
     "output_type": "execute_result"
    }
   ],
   "source": [
    "np.vstack((a, l))"
   ]
  },
  {
   "cell_type": "code",
   "execution_count": 17,
   "metadata": {},
   "outputs": [],
   "source": [
    "test=kd_tree.query([5,5], k=len(kd_tree.data))"
   ]
  },
  {
   "cell_type": "code",
   "execution_count": 18,
   "metadata": {},
   "outputs": [
    {
     "data": {
      "text/plain": [
       "array([  0,  72, 641, ..., 501, 402, 494])"
      ]
     },
     "execution_count": 18,
     "metadata": {},
     "output_type": "execute_result"
    }
   ],
   "source": [
    "test[1]"
   ]
  },
  {
   "cell_type": "code",
   "execution_count": 19,
   "metadata": {},
   "outputs": [
    {
     "data": {
      "text/plain": [
       "array([-5.13266864, -0.61366281])"
      ]
     },
     "execution_count": 19,
     "metadata": {},
     "output_type": "execute_result"
    }
   ],
   "source": [
    "kd_tree.data[623]"
   ]
  },
  {
   "cell_type": "code",
   "execution_count": 20,
   "metadata": {},
   "outputs": [
    {
     "data": {
      "text/plain": [
       "(1001, 2)"
      ]
     },
     "execution_count": 20,
     "metadata": {},
     "output_type": "execute_result"
    }
   ],
   "source": [
    "kd_tree.data.shape"
   ]
  },
  {
   "cell_type": "code",
   "execution_count": null,
   "metadata": {},
   "outputs": [],
   "source": []
  }
 ],
 "metadata": {
  "kernelspec": {
   "display_name": "Python 3",
   "language": "python",
   "name": "python3"
  },
  "language_info": {
   "codemirror_mode": {
    "name": "ipython",
    "version": 3
   },
   "file_extension": ".py",
   "mimetype": "text/x-python",
   "name": "python",
   "nbconvert_exporter": "python",
   "pygments_lexer": "ipython3",
   "version": "3.6.9"
  }
 },
 "nbformat": 4,
 "nbformat_minor": 2
}
